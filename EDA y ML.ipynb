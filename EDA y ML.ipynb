{
 "cells": [
  {
   "cell_type": "markdown",
   "metadata": {},
   "source": [
    "# EDA"
   ]
  },
  {
   "cell_type": "code",
   "execution_count": null,
   "metadata": {},
   "outputs": [],
   "source": []
  },
  {
   "cell_type": "markdown",
   "metadata": {},
   "source": [
    "# ML"
   ]
  },
  {
   "cell_type": "code",
   "execution_count": 2,
   "metadata": {},
   "outputs": [],
   "source": [
    "import numpy as np\n",
    "import pandas as pd\n",
    "from sklearn.feature_extraction.text import TfidfVectorizer\n",
    "from sklearn.metrics.pairwise import linear_kernel"
   ]
  },
  {
   "cell_type": "code",
   "execution_count": 3,
   "metadata": {},
   "outputs": [],
   "source": [
    "df_games = pd.read_parquet('games.parquet')\n",
    "df_items = pd.read_parquet('items.parquet')\n",
    "df_reviews = pd.read_parquet('Reviews.parquet')\n",
    "df_generos = pd.read_parquet('generos.parquet')"
   ]
  },
  {
   "cell_type": "code",
   "execution_count": 4,
   "metadata": {},
   "outputs": [
    {
     "data": {
      "text/html": [
       "<div>\n",
       "<style scoped>\n",
       "    .dataframe tbody tr th:only-of-type {\n",
       "        vertical-align: middle;\n",
       "    }\n",
       "\n",
       "    .dataframe tbody tr th {\n",
       "        vertical-align: top;\n",
       "    }\n",
       "\n",
       "    .dataframe thead th {\n",
       "        text-align: right;\n",
       "    }\n",
       "</style>\n",
       "<table border=\"1\" class=\"dataframe\">\n",
       "  <thead>\n",
       "    <tr style=\"text-align: right;\">\n",
       "      <th></th>\n",
       "      <th>title</th>\n",
       "      <th>release_date</th>\n",
       "      <th>price</th>\n",
       "      <th>id</th>\n",
       "      <th>developer</th>\n",
       "      <th>genres</th>\n",
       "    </tr>\n",
       "  </thead>\n",
       "  <tbody>\n",
       "    <tr>\n",
       "      <th>0</th>\n",
       "      <td>lost summoner kitty</td>\n",
       "      <td>2018-01-04</td>\n",
       "      <td>4.99</td>\n",
       "      <td>761140</td>\n",
       "      <td>kotoshiro</td>\n",
       "      <td>action</td>\n",
       "    </tr>\n",
       "    <tr>\n",
       "      <th>1</th>\n",
       "      <td>lost summoner kitty</td>\n",
       "      <td>2018-01-04</td>\n",
       "      <td>4.99</td>\n",
       "      <td>761140</td>\n",
       "      <td>kotoshiro</td>\n",
       "      <td>casual</td>\n",
       "    </tr>\n",
       "  </tbody>\n",
       "</table>\n",
       "</div>"
      ],
      "text/plain": [
       "                 title release_date  price      id  developer  genres\n",
       "0  lost summoner kitty   2018-01-04   4.99  761140  kotoshiro  action\n",
       "1  lost summoner kitty   2018-01-04   4.99  761140  kotoshiro  casual"
      ]
     },
     "execution_count": 4,
     "metadata": {},
     "output_type": "execute_result"
    }
   ],
   "source": [
    "df_steam = pd.merge(df_games, df_generos, left_on='id', right_on='id')\n",
    "df_steam.head(2)"
   ]
  },
  {
   "cell_type": "code",
   "execution_count": 5,
   "metadata": {},
   "outputs": [
    {
     "data": {
      "text/html": [
       "<div>\n",
       "<style scoped>\n",
       "    .dataframe tbody tr th:only-of-type {\n",
       "        vertical-align: middle;\n",
       "    }\n",
       "\n",
       "    .dataframe tbody tr th {\n",
       "        vertical-align: top;\n",
       "    }\n",
       "\n",
       "    .dataframe thead th {\n",
       "        text-align: right;\n",
       "    }\n",
       "</style>\n",
       "<table border=\"1\" class=\"dataframe\">\n",
       "  <thead>\n",
       "    <tr style=\"text-align: right;\">\n",
       "      <th></th>\n",
       "      <th>id</th>\n",
       "      <th>title</th>\n",
       "      <th>genres</th>\n",
       "    </tr>\n",
       "  </thead>\n",
       "  <tbody>\n",
       "    <tr>\n",
       "      <th>0</th>\n",
       "      <td>761140</td>\n",
       "      <td>lost summoner kitty</td>\n",
       "      <td>action</td>\n",
       "    </tr>\n",
       "    <tr>\n",
       "      <th>1</th>\n",
       "      <td>761140</td>\n",
       "      <td>lost summoner kitty</td>\n",
       "      <td>casual</td>\n",
       "    </tr>\n",
       "  </tbody>\n",
       "</table>\n",
       "</div>"
      ],
      "text/plain": [
       "       id                title  genres\n",
       "0  761140  lost summoner kitty  action\n",
       "1  761140  lost summoner kitty  casual"
      ]
     },
     "execution_count": 5,
     "metadata": {},
     "output_type": "execute_result"
    }
   ],
   "source": [
    "df_steam = df_steam[['id', 'title', 'genres']]\n",
    "df_steam.head(2)"
   ]
  },
  {
   "cell_type": "code",
   "execution_count": 6,
   "metadata": {},
   "outputs": [
    {
     "data": {
      "text/html": [
       "<div>\n",
       "<style scoped>\n",
       "    .dataframe tbody tr th:only-of-type {\n",
       "        vertical-align: middle;\n",
       "    }\n",
       "\n",
       "    .dataframe tbody tr th {\n",
       "        vertical-align: top;\n",
       "    }\n",
       "\n",
       "    .dataframe thead th {\n",
       "        text-align: right;\n",
       "    }\n",
       "</style>\n",
       "<table border=\"1\" class=\"dataframe\">\n",
       "  <thead>\n",
       "    <tr style=\"text-align: right;\">\n",
       "      <th></th>\n",
       "      <th>id</th>\n",
       "      <th>title</th>\n",
       "      <th>genres</th>\n",
       "    </tr>\n",
       "  </thead>\n",
       "  <tbody>\n",
       "    <tr>\n",
       "      <th>0</th>\n",
       "      <td>761140</td>\n",
       "      <td>lost summoner kitty</td>\n",
       "      <td>action</td>\n",
       "    </tr>\n",
       "    <tr>\n",
       "      <th>1</th>\n",
       "      <td>761140</td>\n",
       "      <td>lost summoner kitty</td>\n",
       "      <td>casual</td>\n",
       "    </tr>\n",
       "  </tbody>\n",
       "</table>\n",
       "</div>"
      ],
      "text/plain": [
       "       id                title  genres\n",
       "0  761140  lost summoner kitty  action\n",
       "1  761140  lost summoner kitty  casual"
      ]
     },
     "execution_count": 6,
     "metadata": {},
     "output_type": "execute_result"
    }
   ],
   "source": [
    "df_steam = df_steam.drop_duplicates()\n",
    "df_steam.head(2)"
   ]
  },
  {
   "cell_type": "code",
   "execution_count": 6,
   "metadata": {},
   "outputs": [],
   "source": [
    "# Agrupa los géneros y títulos para cada juego en una lista\n",
    "grouped_genres_title = df_steam.groupby('id')[['genres', 'title']].agg(list).reset_index()\n",
    "\n",
    "# Crea una nueva columna que contiene la lista de géneros como texto\n",
    "grouped_genres_title['genres_text'] = grouped_genres_title['genres'].apply(lambda x: ' '.join(x))\n",
    "\n",
    "# Crea una matriz TF-IDF para los géneros de los juegos\n",
    "tfidf_vectorizer = TfidfVectorizer(stop_words='english', max_features=500)  # Cambia 500 al número deseado de características\n",
    "tfidf_matrix = tfidf_vectorizer.fit_transform(grouped_genres_title['genres_text'])\n",
    "\n",
    "# Calcula la similitud del coseno entre los juegos\n",
    "cosine_sim = linear_kernel(tfidf_matrix, tfidf_matrix)"
   ]
  },
  {
   "cell_type": "code",
   "execution_count": 7,
   "metadata": {},
   "outputs": [],
   "source": [
    "df=grouped_genres_title"
   ]
  },
  {
   "cell_type": "code",
   "execution_count": 8,
   "metadata": {},
   "outputs": [],
   "source": [
    "# Función para obtener recomendaciones\n",
    "def recomendacion_juego(id):\n",
    "    if id not in df['id'].values:\n",
    "        no_encontrado = f'El id {id} no fue encontrado en la base de datos'\n",
    "        return no_encontrado\n",
    "    \n",
    "    else:\n",
    "        # Encuentra el índice del juego con el ID dado\n",
    "        idx = df[df['id'] == id].index[0]\n",
    "\n",
    "        # Obtén las puntuaciones de similitud del coseno para todos los juegos\n",
    "        sim_scores = list(enumerate(cosine_sim[idx]))\n",
    "\n",
    "        # Ordena los juegos en función de las puntuaciones de similitud\n",
    "        sim_scores = sorted(sim_scores, key=lambda x: x[1], reverse=True)\n",
    "\n",
    "        # Obtén los índices de los juegos más similares (excluyendo el juego de entrada)\n",
    "        sim_scores = sim_scores[1:6]  # Cambia esto si quieres más o menos recomendaciones\n",
    "\n",
    "        # Obtiene los títulos de los juegos recomendados\n",
    "        game_indices = [i[0] for i in sim_scores]\n",
    "        recommended_game_titles = df.iloc[game_indices]['title']\n",
    "\n",
    "        # Convierte la lista de títulos en una lista plana y única\n",
    "        recommended_game_titles_flat = list(set([title for sublist in recommended_game_titles for title in sublist]))\n",
    "\n",
    "        return recommended_game_titles_flat"
   ]
  },
  {
   "cell_type": "code",
   "execution_count": 7,
   "metadata": {},
   "outputs": [],
   "source": [
    "# Agrupa los géneros y títulos para cada juego en una lista\n",
    "grouped_genres_title = df_steam.groupby('id')[['genres', 'title']].agg(list).reset_index()\n",
    "\n",
    "# Crea una nueva columna que contiene la lista de géneros como texto\n",
    "grouped_genres_title['genres_text'] = grouped_genres_title['genres'].apply(lambda x: ' '.join(x))\n",
    "\n",
    "\n",
    "\n"
   ]
  },
  {
   "cell_type": "code",
   "execution_count": 8,
   "metadata": {},
   "outputs": [],
   "source": [
    "# Función para obtener recomendaciones de juego\n",
    "def recomendacion_juego(id):\n",
    "    if id not in df['id'].values:\n",
    "        no_encontrado = f'El id {id} no fue encontrado en la base de datos'\n",
    "        return no_encontrado\n",
    "    \n",
    "    else:\n",
    "        # Crea una matriz TF-IDF para los géneros de los juegos\n",
    "        tfidf_vectorizer = TfidfVectorizer(stop_words='english', max_features=500)  # Cambia 500 al número deseado de características\n",
    "        tfidf_matrix = tfidf_vectorizer.fit_transform(grouped_genres_title['genres_text'])\n",
    "        \n",
    "        # Calcula la similitud del coseno entre los juegos bajo demanda\n",
    "        cosine_sim = linear_kernel(tfidf_matrix, tfidf_matrix)\n",
    "\n",
    "        # Encuentra el índice del juego con el ID dado\n",
    "        idx = df[df['id'] == id].index[0]\n",
    "\n",
    "        # Obtén las puntuaciones de similitud del coseno para todos los juegos\n",
    "        sim_scores = list(enumerate(cosine_sim[idx]))\n",
    "\n",
    "        # Ordena los juegos en función de las puntuaciones de similitud\n",
    "        sim_scores = sorted(sim_scores, key=lambda x: x[1], reverse=True)\n",
    "\n",
    "        # Obtén los índices de los juegos más similares (excluyendo el juego de entrada)\n",
    "        sim_scores = sim_scores[1:6]  # Cambia esto si quieres más o menos recomendaciones\n",
    "\n",
    "        # Obtiene los títulos de los juegos recomendados\n",
    "        game_indices = [i[0] for i in sim_scores]\n",
    "        recommended_game_titles = df.iloc[game_indices]['title']\n",
    "\n",
    "        # Convierte la lista de títulos en una lista plana y única\n",
    "        recommended_game_titles_flat = list(set([title for sublist in recommended_game_titles for title in sublist]))\n",
    "\n",
    "        return recommended_game_titles_flat"
   ]
  },
  {
   "cell_type": "code",
   "execution_count": 9,
   "metadata": {},
   "outputs": [
    {
     "data": {
      "text/plain": [
       "['enforcer: police crime action',\n",
       " 'thehunter: primal',\n",
       " 'beyond space remastered edition',\n",
       " 'the tomorrow war',\n",
       " 'star trek™ : 25th anniversary']"
      ]
     },
     "execution_count": 9,
     "metadata": {},
     "output_type": "execute_result"
    }
   ],
   "source": [
    "recomendacion_juego('772540')"
   ]
  },
  {
   "cell_type": "code",
   "execution_count": 10,
   "metadata": {},
   "outputs": [],
   "source": [
    "df.to_parquet('Recomendacion.parquet', index = False)"
   ]
  },
  {
   "cell_type": "code",
   "execution_count": 11,
   "metadata": {},
   "outputs": [],
   "source": [
    "import gzip\n",
    "\n",
    "# Suponiendo que cosine_sim es una matriz NumPy\n",
    "with gzip.open('cosine_sim.npy.gz', 'wb') as f:\n",
    "    np.save(f, cosine_sim)"
   ]
  }
 ],
 "metadata": {
  "kernelspec": {
   "display_name": "Python 3",
   "language": "python",
   "name": "python3"
  },
  "language_info": {
   "codemirror_mode": {
    "name": "ipython",
    "version": 3
   },
   "file_extension": ".py",
   "mimetype": "text/x-python",
   "name": "python",
   "nbconvert_exporter": "python",
   "pygments_lexer": "ipython3",
   "version": "3.11.4"
  },
  "orig_nbformat": 4
 },
 "nbformat": 4,
 "nbformat_minor": 2
}
